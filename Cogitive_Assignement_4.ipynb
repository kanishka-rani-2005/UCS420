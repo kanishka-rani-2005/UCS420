{
 "cells": [
  {
   "cell_type": "code",
   "execution_count": null,
   "id": "c11c3132-3fb2-4328-b2e8-6fe5dee967c9",
   "metadata": {},
   "outputs": [],
   "source": [
    "import numpy as np\n",
    "a=np.array([1,2,3,4,5])\n",
    "print(a+2)"
   ]
  },
  {
   "cell_type": "code",
   "execution_count": null,
   "id": "c21361f8-21ab-4cb3-8748-fcd44d1b168b",
   "metadata": {},
   "outputs": [],
   "source": [
    "print(a*3)"
   ]
  },
  {
   "cell_type": "code",
   "execution_count": null,
   "id": "29ba533f-c709-4275-a3a0-67a0962c603a",
   "metadata": {},
   "outputs": [],
   "source": [
    "print(a/2)"
   ]
  },
  {
   "cell_type": "code",
   "execution_count": null,
   "id": "acb32289-93e5-4505-8a40-f1bd33253d93",
   "metadata": {},
   "outputs": [],
   "source": [
    "b=np.array([1,2,3,6,4,5])\n",
    "r_array=b[::-1]\n",
    "print(type(r_array))"
   ]
  },
  {
   "cell_type": "code",
   "execution_count": null,
   "id": "272a2b69-d97b-46aa-9f25-dd695172cec0",
   "metadata": {},
   "outputs": [],
   "source": [
    "r_array=np.flip(b)\n",
    "r_array"
   ]
  },
  {
   "cell_type": "code",
   "execution_count": null,
   "id": "721b9a8c-a035-41fb-9631-031cb23fd2c5",
   "metadata": {},
   "outputs": [],
   "source": [
    "x=np.array([1,2,3,4,5,1,2,1,1,1])\n",
    "y=np.bincount(x)\n",
    "print(y)\n",
    "m=max(y)\n",
    "print(m)\n",
    "for i in range(len(y)):\n",
    "    if(m==y[i]):\n",
    "        print(i)"
   ]
  },
  {
   "cell_type": "code",
   "execution_count": null,
   "id": "8f8cb7fc-14b9-4397-8cf4-e364bc568801",
   "metadata": {},
   "outputs": [],
   "source": [
    "import numpy as np\n",
    "y=np.array([1,1,1,2,3,4,2,4,3,3])\n",
    "unique,counts=np.unique(y,return_counts=True)\n",
    "most_frequent_value=unique[np.argmax(counts)]\n",
    "indices=np.where(y==most_frequent_value)[0]\n",
    "print(\"Most Frequent Value:\",most_frequent_value)\n",
    "print(\"Indices:\",indices)"
   ]
  },
  {
   "cell_type": "code",
   "execution_count": null,
   "id": "766eba9c-c2d5-4376-b199-f9ce267f5d81",
   "metadata": {},
   "outputs": [],
   "source": [
    "arr=np.array([[10,20,30],[40,50,60],[70,80,90]])\n",
    "print(arr[0][1])\n",
    "print(arr[0])\n",
    "print(arr[:,1])\n",
    "print(arr[:,0])\n",
    "print(arr[2])"
   ]
  },
  {
   "cell_type": "code",
   "execution_count": null,
   "id": "f3efa7bb-8966-407a-b4ec-0652635cbc13",
   "metadata": {},
   "outputs": [],
   "source": [
    "print(arr[2][0])"
   ]
  },
  {
   "cell_type": "code",
   "execution_count": null,
   "id": "f6058e02-07cd-48b6-9a91-1da65ba2e20c",
   "metadata": {},
   "outputs": [],
   "source": [
    "kanishka=np.linspace(10,100,25)\n",
    "print(kanishka)\n",
    "print(np.ndim(kanishka))\n",
    "print(np.shape(kanishka))\n",
    "print(len(kanishka))\n",
    "print(kanishka.dtype)\n",
    "print(kanishka.nbytes)\n",
    "print(kanishka.reshape(1,25))\n",
    "print(kanishka.T)\n",
    "print(np.shape(kanishka))"
   ]
  },
  {
   "cell_type": "code",
   "execution_count": null,
   "id": "83a38fd6-0e0f-438d-ad44-6486fe70339f",
   "metadata": {},
   "outputs": [],
   "source": [
    "ucs420_kanishka=np.array([[10,20,30,40],[50,60,70,80],[90,15,20,35]])\n",
    "m=np.mean(ucs420_kanishka)\n",
    "print(\"Mean:\",m)\n",
    "x=np.median(ucs420_kanishka)\n",
    "print(\"Median:\",x)\n",
    "y=np.max(ucs420_kanishka)\n",
    "print(\"Max:\",y)\n",
    "z=np.min(ucs420_kanishka)\n",
    "print(\"Min:\",z)\n",
    "reshaped_ucs420_kanishka=ucs420_kanishka.reshape(4,3)\n",
    "print(reshaped_ucs420_kanishka)\n",
    "resized_ucs420_kanishka=np.resize(reshaped_ucs420_kanishka,(2,3))\n",
    "print(ucs420_kanishka)"
   ]
  },
  {
   "cell_type": "code",
   "execution_count": null,
   "id": "5d9fcfc2-5b6f-41cd-ae9f-a86aa271c151",
   "metadata": {},
   "outputs": [],
   "source": []
  }
 ],
 "metadata": {
  "kernelspec": {
   "display_name": "Python 3",
   "language": "python",
   "name": "python3"
  },
  "language_info": {
   "codemirror_mode": {
    "name": "ipython",
    "version": 3
   },
   "file_extension": ".py",
   "mimetype": "text/x-python",
   "name": "python",
   "nbconvert_exporter": "python",
   "pygments_lexer": "ipython3",
   "version": "3.12.4"
  }
 },
 "nbformat": 4,
 "nbformat_minor": 5
}
