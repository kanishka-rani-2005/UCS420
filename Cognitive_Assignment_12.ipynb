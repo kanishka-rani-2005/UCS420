{
  "nbformat": 4,
  "nbformat_minor": 0,
  "metadata": {
    "colab": {
      "provenance": []
    },
    "kernelspec": {
      "name": "python3",
      "display_name": "Python 3"
    },
    "language_info": {
      "name": "python"
    }
  },
  "cells": [
    {
      "cell_type": "code",
      "execution_count": 1,
      "metadata": {
        "colab": {
          "base_uri": "https://localhost:8080/"
        },
        "id": "l-X6kBmQY82e",
        "outputId": "61d06fc5-6662-454e-c498-addc76a81db7"
      },
      "outputs": [
        {
          "output_type": "stream",
          "name": "stdout",
          "text": [
            "\u001b[33mWARNING: Skipping chatterbot as it is not installed.\u001b[0m\u001b[33m\n",
            "\u001b[0m\u001b[33mWARNING: Skipping chatterbot_corpus as it is not installed.\u001b[0m\u001b[33m\n",
            "\u001b[0mCollecting git+https://github.com/gunthercox/ChatterBot.git@master\n",
            "  Cloning https://github.com/gunthercox/ChatterBot.git (to revision master) to /tmp/pip-req-build-04pfb6os\n",
            "  Running command git clone --filter=blob:none --quiet https://github.com/gunthercox/ChatterBot.git /tmp/pip-req-build-04pfb6os\n",
            "  Resolved https://github.com/gunthercox/ChatterBot.git to commit bb613124fc9950843e61a89f923bf874d067c61d\n",
            "  Installing build dependencies ... \u001b[?25l\u001b[?25hdone\n",
            "  Getting requirements to build wheel ... \u001b[?25l\u001b[?25hdone\n",
            "  Preparing metadata (pyproject.toml) ... \u001b[?25l\u001b[?25hdone\n",
            "Collecting mathparse<0.2,>=0.1 (from ChatterBot==1.2.7)\n",
            "  Downloading mathparse-0.1.5-py3-none-any.whl.metadata (2.0 kB)\n",
            "Requirement already satisfied: python-dateutil<2.10,>=2.9 in /usr/local/lib/python3.11/dist-packages (from ChatterBot==1.2.7) (2.9.0.post0)\n",
            "Requirement already satisfied: sqlalchemy<2.1,>=2.0 in /usr/local/lib/python3.11/dist-packages (from ChatterBot==1.2.7) (2.0.40)\n",
            "Requirement already satisfied: spacy<3.9,>=3.8 in /usr/local/lib/python3.11/dist-packages (from ChatterBot==1.2.7) (3.8.5)\n",
            "Requirement already satisfied: tqdm in /usr/local/lib/python3.11/dist-packages (from ChatterBot==1.2.7) (4.67.1)\n",
            "Requirement already satisfied: six>=1.5 in /usr/local/lib/python3.11/dist-packages (from python-dateutil<2.10,>=2.9->ChatterBot==1.2.7) (1.17.0)\n",
            "Requirement already satisfied: spacy-legacy<3.1.0,>=3.0.11 in /usr/local/lib/python3.11/dist-packages (from spacy<3.9,>=3.8->ChatterBot==1.2.7) (3.0.12)\n",
            "Requirement already satisfied: spacy-loggers<2.0.0,>=1.0.0 in /usr/local/lib/python3.11/dist-packages (from spacy<3.9,>=3.8->ChatterBot==1.2.7) (1.0.5)\n",
            "Requirement already satisfied: murmurhash<1.1.0,>=0.28.0 in /usr/local/lib/python3.11/dist-packages (from spacy<3.9,>=3.8->ChatterBot==1.2.7) (1.0.12)\n",
            "Requirement already satisfied: cymem<2.1.0,>=2.0.2 in /usr/local/lib/python3.11/dist-packages (from spacy<3.9,>=3.8->ChatterBot==1.2.7) (2.0.11)\n",
            "Requirement already satisfied: preshed<3.1.0,>=3.0.2 in /usr/local/lib/python3.11/dist-packages (from spacy<3.9,>=3.8->ChatterBot==1.2.7) (3.0.9)\n",
            "Requirement already satisfied: thinc<8.4.0,>=8.3.4 in /usr/local/lib/python3.11/dist-packages (from spacy<3.9,>=3.8->ChatterBot==1.2.7) (8.3.6)\n",
            "Requirement already satisfied: wasabi<1.2.0,>=0.9.1 in /usr/local/lib/python3.11/dist-packages (from spacy<3.9,>=3.8->ChatterBot==1.2.7) (1.1.3)\n",
            "Requirement already satisfied: srsly<3.0.0,>=2.4.3 in /usr/local/lib/python3.11/dist-packages (from spacy<3.9,>=3.8->ChatterBot==1.2.7) (2.5.1)\n",
            "Requirement already satisfied: catalogue<2.1.0,>=2.0.6 in /usr/local/lib/python3.11/dist-packages (from spacy<3.9,>=3.8->ChatterBot==1.2.7) (2.0.10)\n",
            "Requirement already satisfied: weasel<0.5.0,>=0.1.0 in /usr/local/lib/python3.11/dist-packages (from spacy<3.9,>=3.8->ChatterBot==1.2.7) (0.4.1)\n",
            "Requirement already satisfied: typer<1.0.0,>=0.3.0 in /usr/local/lib/python3.11/dist-packages (from spacy<3.9,>=3.8->ChatterBot==1.2.7) (0.15.3)\n",
            "Requirement already satisfied: numpy>=1.19.0 in /usr/local/lib/python3.11/dist-packages (from spacy<3.9,>=3.8->ChatterBot==1.2.7) (2.0.2)\n",
            "Requirement already satisfied: requests<3.0.0,>=2.13.0 in /usr/local/lib/python3.11/dist-packages (from spacy<3.9,>=3.8->ChatterBot==1.2.7) (2.32.3)\n",
            "Requirement already satisfied: pydantic!=1.8,!=1.8.1,<3.0.0,>=1.7.4 in /usr/local/lib/python3.11/dist-packages (from spacy<3.9,>=3.8->ChatterBot==1.2.7) (2.11.4)\n",
            "Requirement already satisfied: jinja2 in /usr/local/lib/python3.11/dist-packages (from spacy<3.9,>=3.8->ChatterBot==1.2.7) (3.1.6)\n",
            "Requirement already satisfied: setuptools in /usr/local/lib/python3.11/dist-packages (from spacy<3.9,>=3.8->ChatterBot==1.2.7) (75.2.0)\n",
            "Requirement already satisfied: packaging>=20.0 in /usr/local/lib/python3.11/dist-packages (from spacy<3.9,>=3.8->ChatterBot==1.2.7) (24.2)\n",
            "Requirement already satisfied: langcodes<4.0.0,>=3.2.0 in /usr/local/lib/python3.11/dist-packages (from spacy<3.9,>=3.8->ChatterBot==1.2.7) (3.5.0)\n",
            "Requirement already satisfied: greenlet>=1 in /usr/local/lib/python3.11/dist-packages (from sqlalchemy<2.1,>=2.0->ChatterBot==1.2.7) (3.2.1)\n",
            "Requirement already satisfied: typing-extensions>=4.6.0 in /usr/local/lib/python3.11/dist-packages (from sqlalchemy<2.1,>=2.0->ChatterBot==1.2.7) (4.13.2)\n",
            "Requirement already satisfied: language-data>=1.2 in /usr/local/lib/python3.11/dist-packages (from langcodes<4.0.0,>=3.2.0->spacy<3.9,>=3.8->ChatterBot==1.2.7) (1.3.0)\n",
            "Requirement already satisfied: annotated-types>=0.6.0 in /usr/local/lib/python3.11/dist-packages (from pydantic!=1.8,!=1.8.1,<3.0.0,>=1.7.4->spacy<3.9,>=3.8->ChatterBot==1.2.7) (0.7.0)\n",
            "Requirement already satisfied: pydantic-core==2.33.2 in /usr/local/lib/python3.11/dist-packages (from pydantic!=1.8,!=1.8.1,<3.0.0,>=1.7.4->spacy<3.9,>=3.8->ChatterBot==1.2.7) (2.33.2)\n",
            "Requirement already satisfied: typing-inspection>=0.4.0 in /usr/local/lib/python3.11/dist-packages (from pydantic!=1.8,!=1.8.1,<3.0.0,>=1.7.4->spacy<3.9,>=3.8->ChatterBot==1.2.7) (0.4.0)\n",
            "Requirement already satisfied: charset-normalizer<4,>=2 in /usr/local/lib/python3.11/dist-packages (from requests<3.0.0,>=2.13.0->spacy<3.9,>=3.8->ChatterBot==1.2.7) (3.4.1)\n",
            "Requirement already satisfied: idna<4,>=2.5 in /usr/local/lib/python3.11/dist-packages (from requests<3.0.0,>=2.13.0->spacy<3.9,>=3.8->ChatterBot==1.2.7) (3.10)\n",
            "Requirement already satisfied: urllib3<3,>=1.21.1 in /usr/local/lib/python3.11/dist-packages (from requests<3.0.0,>=2.13.0->spacy<3.9,>=3.8->ChatterBot==1.2.7) (2.4.0)\n",
            "Requirement already satisfied: certifi>=2017.4.17 in /usr/local/lib/python3.11/dist-packages (from requests<3.0.0,>=2.13.0->spacy<3.9,>=3.8->ChatterBot==1.2.7) (2025.4.26)\n",
            "Requirement already satisfied: blis<1.4.0,>=1.3.0 in /usr/local/lib/python3.11/dist-packages (from thinc<8.4.0,>=8.3.4->spacy<3.9,>=3.8->ChatterBot==1.2.7) (1.3.0)\n",
            "Requirement already satisfied: confection<1.0.0,>=0.0.1 in /usr/local/lib/python3.11/dist-packages (from thinc<8.4.0,>=8.3.4->spacy<3.9,>=3.8->ChatterBot==1.2.7) (0.1.5)\n",
            "Requirement already satisfied: click>=8.0.0 in /usr/local/lib/python3.11/dist-packages (from typer<1.0.0,>=0.3.0->spacy<3.9,>=3.8->ChatterBot==1.2.7) (8.1.8)\n",
            "Requirement already satisfied: shellingham>=1.3.0 in /usr/local/lib/python3.11/dist-packages (from typer<1.0.0,>=0.3.0->spacy<3.9,>=3.8->ChatterBot==1.2.7) (1.5.4)\n",
            "Requirement already satisfied: rich>=10.11.0 in /usr/local/lib/python3.11/dist-packages (from typer<1.0.0,>=0.3.0->spacy<3.9,>=3.8->ChatterBot==1.2.7) (13.9.4)\n",
            "Requirement already satisfied: cloudpathlib<1.0.0,>=0.7.0 in /usr/local/lib/python3.11/dist-packages (from weasel<0.5.0,>=0.1.0->spacy<3.9,>=3.8->ChatterBot==1.2.7) (0.21.0)\n",
            "Requirement already satisfied: smart-open<8.0.0,>=5.2.1 in /usr/local/lib/python3.11/dist-packages (from weasel<0.5.0,>=0.1.0->spacy<3.9,>=3.8->ChatterBot==1.2.7) (7.1.0)\n",
            "Requirement already satisfied: MarkupSafe>=2.0 in /usr/local/lib/python3.11/dist-packages (from jinja2->spacy<3.9,>=3.8->ChatterBot==1.2.7) (3.0.2)\n",
            "Requirement already satisfied: marisa-trie>=1.1.0 in /usr/local/lib/python3.11/dist-packages (from language-data>=1.2->langcodes<4.0.0,>=3.2.0->spacy<3.9,>=3.8->ChatterBot==1.2.7) (1.2.1)\n",
            "Requirement already satisfied: markdown-it-py>=2.2.0 in /usr/local/lib/python3.11/dist-packages (from rich>=10.11.0->typer<1.0.0,>=0.3.0->spacy<3.9,>=3.8->ChatterBot==1.2.7) (3.0.0)\n",
            "Requirement already satisfied: pygments<3.0.0,>=2.13.0 in /usr/local/lib/python3.11/dist-packages (from rich>=10.11.0->typer<1.0.0,>=0.3.0->spacy<3.9,>=3.8->ChatterBot==1.2.7) (2.19.1)\n",
            "Requirement already satisfied: wrapt in /usr/local/lib/python3.11/dist-packages (from smart-open<8.0.0,>=5.2.1->weasel<0.5.0,>=0.1.0->spacy<3.9,>=3.8->ChatterBot==1.2.7) (1.17.2)\n",
            "Requirement already satisfied: mdurl~=0.1 in /usr/local/lib/python3.11/dist-packages (from markdown-it-py>=2.2.0->rich>=10.11.0->typer<1.0.0,>=0.3.0->spacy<3.9,>=3.8->ChatterBot==1.2.7) (0.1.2)\n",
            "Downloading mathparse-0.1.5-py3-none-any.whl (8.8 kB)\n",
            "Building wheels for collected packages: ChatterBot\n",
            "  Building wheel for ChatterBot (pyproject.toml) ... \u001b[?25l\u001b[?25hdone\n",
            "  Created wheel for ChatterBot: filename=chatterbot-1.2.7-py3-none-any.whl size=76034 sha256=e7b35b71b6f1aa622aca2430370be70848e226bf123a24b5ba36f0e900456646\n",
            "  Stored in directory: /tmp/pip-ephem-wheel-cache-wc13zv51/wheels/fd/03/55/c2af3bb3db528c97656fd03d65adc6492c0d41496bfafd3485\n",
            "Successfully built ChatterBot\n",
            "Installing collected packages: mathparse, ChatterBot\n",
            "Successfully installed ChatterBot-1.2.7 mathparse-0.1.5\n",
            "Collecting chatterbot_corpus\n",
            "  Downloading chatterbot_corpus-1.2.2-py2.py3-none-any.whl.metadata (1.1 kB)\n",
            "Downloading chatterbot_corpus-1.2.2-py2.py3-none-any.whl (240 kB)\n",
            "\u001b[2K   \u001b[90m━━━━━━━━━━━━━━━━━━━━━━━━━━━━━━━━━━━━━━━━\u001b[0m \u001b[32m240.5/240.5 kB\u001b[0m \u001b[31m4.3 MB/s\u001b[0m eta \u001b[36m0:00:00\u001b[0m\n",
            "\u001b[?25hInstalling collected packages: chatterbot_corpus\n",
            "Successfully installed chatterbot_corpus-1.2.2\n"
          ]
        }
      ],
      "source": [
        "!pip uninstall -y chatterbot\n",
        "!pip uninstall -y chatterbot_corpus\n",
        "!pip install git+https://github.com/gunthercox/ChatterBot.git@master\n",
        "!pip install chatterbot_corpus"
      ]
    },
    {
      "cell_type": "code",
      "source": [
        "from chatterbot import ChatBot\n",
        "from chatterbot.trainers import ListTrainer"
      ],
      "metadata": {
        "id": "6ZwG6Fd3ZA_f"
      },
      "execution_count": 2,
      "outputs": []
    },
    {
      "cell_type": "code",
      "source": [
        "bankBot = ChatBot(\n",
        "name='BankBot',\n",
        "read_only=True,\n",
        "logic_adapters=[\n",
        "'chatterbot.logic.BestMatch'\n",
        "]\n",
        ")"
      ],
      "metadata": {
        "id": "XXx1i878ZLDG"
      },
      "execution_count": 3,
      "outputs": []
    },
    {
      "cell_type": "code",
      "source": [
        "conversation = [\n",
        "\"Hi\",\n",
        "\"Hello! I am BankBot. How can I assist you with your banking today?\",\n",
        "\"How do I open a bank account?\",\n",
        "\"You can open a bank account by visiting our branch or applying online with ID proof and address verification.\",\n",
        "\"What are your working hours?\",\n",
        "\"Our branches are open from 9 AM to 4 PM, Monday to Friday.\",\n",
        "\"How can I check my account balance?\",\n",
        "\"You can check your balance through mobile banking, internet banking, or ATM.\",\n",
        "\"How do I apply for a debit card?\",\n",
        "\"You can apply for a debit card while opening your account or request one through our mobile app.\",\n",
        "\"Thank you\",\n",
        "\"You're welcome! Let me know if you need more help.\",\n",
        "\"Bye\",\n",
        "\"Goodbye! Have a great day.\"\n",
        "]"
      ],
      "metadata": {
        "id": "JAV8drdCZNkj"
      },
      "execution_count": 4,
      "outputs": []
    },
    {
      "cell_type": "code",
      "source": [
        "trainer = ListTrainer(bankBot)\n",
        "trainer.train(conversation)\n",
        "print(\"Ask BankBot your question (type 'exit' to stop):\\n\")\n",
        "while True:\n",
        "  user_input = input(\"You: \")\n",
        "  if user_input.lower() == 'exit':\n",
        "    print(\"BankBot: Goodbye!\")\n",
        "    break\n",
        "  response = bankBot.get_response(user_input)\n",
        "  print(f\"BankBot: {response}\")"
      ],
      "metadata": {
        "colab": {
          "base_uri": "https://localhost:8080/"
        },
        "id": "YoSLq26lZPnI",
        "outputId": "e9a8bfd9-3c5f-4f5d-e2be-5d8fd0f0a08f"
      },
      "execution_count": 6,
      "outputs": [
        {
          "output_type": "stream",
          "name": "stderr",
          "text": [
            "List Trainer: 14it [00:00, 619.82it/s]\n"
          ]
        },
        {
          "output_type": "stream",
          "name": "stdout",
          "text": [
            "Ask BankBot your question (type 'exit' to stop):\n",
            "\n",
            "You: Hi\n",
            "BankBot: Hello! I am BankBot. How can I assist you with your banking today?\n",
            "You: How do I open a bank account?\n",
            "BankBot: You can open a bank account by visiting our branch or applying online with ID proof and address verification.\n",
            "You: What are your working hours?\n",
            "BankBot: Our branches are open from 9 AM to 4 PM, Monday to Friday.\n",
            "You: How do I apply for a debit card?\n",
            "BankBot: You can apply for a debit card while opening your account or request one through our mobile app.\n",
            "You: ok\n",
            "BankBot: Thank you\n",
            "You: Bye\n",
            "BankBot: Goodbye! Have a great day.\n",
            "You: exit\n",
            "BankBot: Goodbye!\n"
          ]
        }
      ]
    }
  ]
}